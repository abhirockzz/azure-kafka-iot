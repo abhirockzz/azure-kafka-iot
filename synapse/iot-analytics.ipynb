{
  "nbformat": 4,
  "nbformat_minor": 2,
  "metadata": {
    "kernelspec": {
      "name": "synapse_pyspark",
      "display_name": "Synapse PySpark"
    },
    "language_info": {
      "name": "python"
    },
    "save_output": true,
    "synapse_widget": {
      "version": "0.1",
      "state": {}
    }
  },
  "cells": [
    {
      "cell_type": "code",
      "execution_count": null,
      "source": [
        "iotdata = spark.read.format(\"cosmos.olap\")\\\n",
        "            .option(\"spark.synapse.linkedService\", \"iotcosmos\")\\\n",
        "            .option(\"spark.cosmos.container\", \"device-data\")\\\n",
        "            .load()\n",
        "\n",
        "print(iotdata.count())\n",
        "display(iotdata.limit(3))"
      ],
      "outputs": [],
      "metadata": {
        "jupyter": {
          "source_hidden": false,
          "outputs_hidden": false
        },
        "nteract": {
          "transient": {
            "deleting": false
          }
        },
        "collapsed": false
      }
    },
    {
      "cell_type": "code",
      "execution_count": null,
      "source": [
        "average_temp = iotdata.groupBy(\"location\").avg(\"temp\") \\\n",
        "                        .withColumnRenamed(\"avg(temp)\", \"avg_temp\") \\\n",
        "                        .orderBy(\"avg(temp)\")\n",
        "\n",
        "display(average_temp)"
      ],
      "outputs": [],
      "metadata": {
        "jupyter": {
          "source_hidden": false,
          "outputs_hidden": false
        },
        "nteract": {
          "transient": {
            "deleting": false
          }
        },
        "collapsed": false
      }
    },
    {
      "cell_type": "code",
      "execution_count": null,
      "source": [
        "average_temp_new = average_temp \\\n",
        "                    .withColumn(\"id\", average_temp[\"location\"]) \\\n",
        "                    .drop(\"location\")\n",
        "\n",
        "average_temp_new.write\\\n",
        "    .format(\"cosmos.oltp\")\\\n",
        "    .option(\"spark.synapse.linkedService\", \"iotcosmos\")\\\n",
        "    .option(\"spark.cosmos.container\", \"avg_temp\")\\\n",
        "    .option(\"spark.cosmos.write.upsertEnabled\", \"true\")\\\n",
        "    .mode('append')\\\n",
        "    .save()\n"
      ],
      "outputs": [],
      "metadata": {
        "jupyter": {
          "source_hidden": false,
          "outputs_hidden": false
        },
        "nteract": {
          "transient": {
            "deleting": false
          }
        },
        "collapsed": false
      }
    },
    {
      "cell_type": "code",
      "execution_count": null,
      "source": [
        "locationInfo = (spark\n",
        "                .read\n",
        "                .csv(\"/location-metadata.csv\", header=True, inferSchema='true')\n",
        "              )\n",
        "\n",
        "display(locationInfo)"
      ],
      "outputs": [],
      "metadata": {
        "jupyter": {
          "source_hidden": false,
          "outputs_hidden": false
        },
        "nteract": {
          "transient": {
            "deleting": false
          }
        },
        "collapsed": false
      }
    },
    {
      "cell_type": "code",
      "execution_count": null,
      "source": [
        "locations = locationInfo \\\n",
        "                    .withColumn(\"id\", locationInfo[\"name\"]) \\\n",
        "                    .drop(\"name\")\n",
        "\n",
        "locations.write\\\n",
        "            .format(\"cosmos.oltp\")\\\n",
        "            .option(\"spark.synapse.linkedService\", \"iotcosmos\")\\\n",
        "            .option(\"spark.cosmos.container\", \"locations\")\\\n",
        "            .option(\"spark.cosmos.write.upsertEnabled\", \"true\")\\\n",
        "            .mode('append')\\\n",
        "            .save()"
      ],
      "outputs": [],
      "metadata": {
        "jupyter": {
          "source_hidden": false,
          "outputs_hidden": false
        },
        "nteract": {
          "transient": {
            "deleting": false
          }
        },
        "collapsed": true
      }
    },
    {
      "cell_type": "code",
      "execution_count": null,
      "source": [
        "%%sql\n",
        "create database iotcosmos"
      ],
      "outputs": [],
      "metadata": {
        "jupyter": {
          "source_hidden": false,
          "outputs_hidden": false
        },
        "nteract": {
          "transient": {
            "deleting": false
          }
        },
        "microsoft": {
          "language": "sparksql"
        },
        "collapsed": false
      }
    },
    {
      "cell_type": "code",
      "execution_count": null,
      "source": [
        "%%sql\n",
        "create table if not exists iotcosmos.iot_data using cosmos.olap options (\n",
        "    spark.synapse.linkedService 'iotcosmos',\n",
        "    spark.cosmos.container 'device-data'\n",
        ")"
      ],
      "outputs": [],
      "metadata": {
        "jupyter": {
          "source_hidden": false,
          "outputs_hidden": false
        },
        "nteract": {
          "transient": {
            "deleting": false
          }
        },
        "microsoft": {
          "language": "sparksql"
        },
        "collapsed": false
      }
    },
    {
      "cell_type": "code",
      "execution_count": null,
      "source": [
        "%%sql\n",
        "\n",
        "create table if not exists iotcosmos.locations using cosmos.olap options (\n",
        "    spark.synapse.linkedService 'iotcosmos',\n",
        "    spark.cosmos.container 'locations'\n",
        ")"
      ],
      "outputs": [],
      "metadata": {
        "jupyter": {
          "source_hidden": false,
          "outputs_hidden": false
        },
        "nteract": {
          "transient": {
            "deleting": false
          }
        },
        "microsoft": {
          "language": "sparksql"
        },
        "collapsed": false
      }
    },
    {
      "cell_type": "code",
      "execution_count": null,
      "source": [
        "avg_temp_enriched = spark.sql(\"select b.info, \\\n",
        "                            a.location, \\\n",
        "                            AVG(a.temp) \\\n",
        "                            from iotcosmos.iot_data a \\\n",
        "                             join iotcosmos.locations b \\\n",
        "                            on a.location = b.id \\\n",
        "                            group by a.location, b.info\")\n",
        "                    \n",
        "\n",
        "display(avg_temp_enriched)"
      ],
      "outputs": [],
      "metadata": {
        "jupyter": {
          "source_hidden": false,
          "outputs_hidden": false
        },
        "nteract": {
          "transient": {
            "deleting": false
          }
        },
        "collapsed": false
      }
    },
    {
      "cell_type": "code",
      "execution_count": null,
      "source": [
        "avg_temp_enriched_with_id = avg_temp_enriched \\\n",
        "                    .withColumn(\"id\", avg_temp_enriched[\"location\"]) \\\n",
        "                    .withColumnRenamed(\"avg(temp)\", \"avg_temp\") \\\n",
        "                    .drop(\"location\")\n",
        "\n",
        "display(avg_temp_enriched_with_id)\n",
        "\n",
        "avg_temp_enriched_with_id.write\\\n",
        "    .format(\"cosmos.oltp\")\\\n",
        "    .option(\"spark.synapse.linkedService\", \"iotcosmos\")\\\n",
        "    .option(\"spark.cosmos.container\", \"avg_temp_enriched\")\\\n",
        "    .option(\"spark.cosmos.write.upsertEnabled\", \"true\")\\\n",
        "    .mode('append')\\\n",
        "    .save()"
      ],
      "outputs": [],
      "metadata": {
        "jupyter": {
          "source_hidden": false,
          "outputs_hidden": false
        },
        "nteract": {
          "transient": {
            "deleting": false
          }
        },
        "collapsed": false
      }
    }
  ]
}